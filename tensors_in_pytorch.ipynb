{
  "nbformat": 4,
  "nbformat_minor": 0,
  "metadata": {
    "colab": {
      "provenance": [],
      "gpuType": "T4",
      "authorship_tag": "ABX9TyMhCr8F0fkVf7mQtE6GZU59",
      "include_colab_link": true
    },
    "kernelspec": {
      "name": "python3",
      "display_name": "Python 3"
    },
    "language_info": {
      "name": "python"
    },
    "accelerator": "GPU"
  },
  "cells": [
    {
      "cell_type": "markdown",
      "metadata": {
        "id": "view-in-github",
        "colab_type": "text"
      },
      "source": [
        "<a href=\"https://colab.research.google.com/github/kajalkumari13/Tensors-in-pytorch/blob/main/tensors_in_pytorch.ipynb\" target=\"_parent\"><img src=\"https://colab.research.google.com/assets/colab-badge.svg\" alt=\"Open In Colab\"/></a>"
      ]
    },
    {
      "cell_type": "code",
      "execution_count": null,
      "metadata": {
        "colab": {
          "base_uri": "https://localhost:8080/"
        },
        "id": "ILxicDob3Cpz",
        "outputId": "8348b7d9-bdc2-4733-8d70-99d5ef0ff9fe"
      },
      "outputs": [
        {
          "output_type": "stream",
          "name": "stdout",
          "text": [
            "2.6.0+cu124\n"
          ]
        }
      ],
      "source": [
        " import torch\n",
        " print(torch.__version__)"
      ]
    },
    {
      "cell_type": "code",
      "source": [
        "if torch.cuda.is_available():\n",
        "  print(\"GPU is available!\")\n",
        "  print(f\"Using GPU: {torch.cuda.get_device_name(0)}\")\n",
        "else:\n",
        "  print(\"GPU not available. Using CPU\")"
      ],
      "metadata": {
        "colab": {
          "base_uri": "https://localhost:8080/"
        },
        "id": "cJE4NtSX34Iw",
        "outputId": "ffbb76bb-781c-4a43-81ec-a36854508f73"
      },
      "execution_count": null,
      "outputs": [
        {
          "output_type": "stream",
          "name": "stdout",
          "text": [
            "GPU not available. Using CPU\n"
          ]
        }
      ]
    },
    {
      "cell_type": "code",
      "source": [
        "a = torch.empty(3,6)"
      ],
      "metadata": {
        "id": "lmF_vrbWLtpk"
      },
      "execution_count": null,
      "outputs": []
    },
    {
      "cell_type": "code",
      "source": [
        "type(a)"
      ],
      "metadata": {
        "colab": {
          "base_uri": "https://localhost:8080/"
        },
        "id": "xYFsY0mVMCNb",
        "outputId": "57b16978-d977-4300-a4c4-09cab6f31dc0"
      },
      "execution_count": null,
      "outputs": [
        {
          "output_type": "execute_result",
          "data": {
            "text/plain": [
              "torch.Tensor"
            ]
          },
          "metadata": {},
          "execution_count": 5
        }
      ]
    },
    {
      "cell_type": "code",
      "source": [
        "torch.zeros(3,6)"
      ],
      "metadata": {
        "colab": {
          "base_uri": "https://localhost:8080/"
        },
        "id": "9sb3BfsIMKZQ",
        "outputId": "2ffd097e-f62e-4a52-d4ed-2bc83e7a94b2"
      },
      "execution_count": null,
      "outputs": [
        {
          "output_type": "execute_result",
          "data": {
            "text/plain": [
              "tensor([[0., 0., 0., 0., 0., 0.],\n",
              "        [0., 0., 0., 0., 0., 0.],\n",
              "        [0., 0., 0., 0., 0., 0.]])"
            ]
          },
          "metadata": {},
          "execution_count": 6
        }
      ]
    },
    {
      "cell_type": "code",
      "source": [
        "torch.ones(3,6)"
      ],
      "metadata": {
        "colab": {
          "base_uri": "https://localhost:8080/"
        },
        "id": "huT7KjOfMSTZ",
        "outputId": "afc221f4-f922-4452-ea5c-2fae71cc6056"
      },
      "execution_count": null,
      "outputs": [
        {
          "output_type": "execute_result",
          "data": {
            "text/plain": [
              "tensor([[1., 1., 1., 1., 1., 1.],\n",
              "        [1., 1., 1., 1., 1., 1.],\n",
              "        [1., 1., 1., 1., 1., 1.]])"
            ]
          },
          "metadata": {},
          "execution_count": 7
        }
      ]
    },
    {
      "cell_type": "code",
      "source": [
        "torch.rand(3,6)"
      ],
      "metadata": {
        "colab": {
          "base_uri": "https://localhost:8080/"
        },
        "id": "TWqZGpixMYqr",
        "outputId": "36762f67-3bd9-4c20-b260-63e328ff5be8"
      },
      "execution_count": null,
      "outputs": [
        {
          "output_type": "execute_result",
          "data": {
            "text/plain": [
              "tensor([[0.5475, 0.8696, 0.4429, 0.0893, 0.7105, 0.6824],\n",
              "        [0.4468, 0.1498, 0.6076, 0.9506, 0.7882, 0.1497],\n",
              "        [0.7191, 0.4282, 0.7633, 0.6183, 0.1068, 0.5282]])"
            ]
          },
          "metadata": {},
          "execution_count": 8
        }
      ]
    },
    {
      "cell_type": "code",
      "source": [
        "torch.manual_seed(42)\n",
        "torch.rand(3,6)"
      ],
      "metadata": {
        "colab": {
          "base_uri": "https://localhost:8080/"
        },
        "id": "3v2n2qb5MqwL",
        "outputId": "6769e65f-baaf-4b4f-fc83-af6f2d49d654"
      },
      "execution_count": null,
      "outputs": [
        {
          "output_type": "execute_result",
          "data": {
            "text/plain": [
              "tensor([[0.8823, 0.9150, 0.3829, 0.9593, 0.3904, 0.6009],\n",
              "        [0.2566, 0.7936, 0.9408, 0.1332, 0.9346, 0.5936],\n",
              "        [0.8694, 0.5677, 0.7411, 0.4294, 0.8854, 0.5739]])"
            ]
          },
          "metadata": {},
          "execution_count": 9
        }
      ]
    },
    {
      "cell_type": "code",
      "source": [
        "torch.tensor([[1,2,3], [4,5,6]])"
      ],
      "metadata": {
        "colab": {
          "base_uri": "https://localhost:8080/"
        },
        "id": "kNMTThoTM2QZ",
        "outputId": "f53a61dd-f6cd-4d79-9060-0d5bce795f5c"
      },
      "execution_count": null,
      "outputs": [
        {
          "output_type": "execute_result",
          "data": {
            "text/plain": [
              "tensor([[1, 2, 3],\n",
              "        [4, 5, 6]])"
            ]
          },
          "metadata": {},
          "execution_count": 10
        }
      ]
    },
    {
      "cell_type": "code",
      "source": [
        "print(\"using arange ->\", torch.arange(0,10,2))"
      ],
      "metadata": {
        "colab": {
          "base_uri": "https://localhost:8080/"
        },
        "id": "qVHLsKlANKLG",
        "outputId": "0fbba549-9864-4878-c19f-022e26a2eb55"
      },
      "execution_count": null,
      "outputs": [
        {
          "output_type": "stream",
          "name": "stdout",
          "text": [
            "using arange -> tensor([0, 2, 4, 6, 8])\n"
          ]
        }
      ]
    },
    {
      "cell_type": "code",
      "source": [
        "print(\"using linspace ->\", torch.linspace(0,10,10))"
      ],
      "metadata": {
        "colab": {
          "base_uri": "https://localhost:8080/"
        },
        "id": "oTlpEK39NcR9",
        "outputId": "6941e94c-a048-43d9-f647-09acc259c041"
      },
      "execution_count": null,
      "outputs": [
        {
          "output_type": "stream",
          "name": "stdout",
          "text": [
            "using linspace -> tensor([ 0.0000,  1.1111,  2.2222,  3.3333,  4.4444,  5.5556,  6.6667,  7.7778,\n",
            "         8.8889, 10.0000])\n"
          ]
        }
      ]
    },
    {
      "cell_type": "code",
      "source": [
        "print(\"using eye ->\", torch.eye(5))"
      ],
      "metadata": {
        "colab": {
          "base_uri": "https://localhost:8080/"
        },
        "id": "4s_9JNqWNjff",
        "outputId": "654beb00-9b77-4b3b-c704-4274f9c7c88c"
      },
      "execution_count": null,
      "outputs": [
        {
          "output_type": "stream",
          "name": "stdout",
          "text": [
            "using eye -> tensor([[1., 0., 0., 0., 0.],\n",
            "        [0., 1., 0., 0., 0.],\n",
            "        [0., 0., 1., 0., 0.],\n",
            "        [0., 0., 0., 1., 0.],\n",
            "        [0., 0., 0., 0., 1.]])\n"
          ]
        }
      ]
    },
    {
      "cell_type": "code",
      "source": [
        "print(\"using full ->\", torch.full((3,3), 5))"
      ],
      "metadata": {
        "colab": {
          "base_uri": "https://localhost:8080/"
        },
        "id": "jJlsQEUNNoxQ",
        "outputId": "e2b93235-ac7c-4848-dd34-016afeb63e08"
      },
      "execution_count": null,
      "outputs": [
        {
          "output_type": "stream",
          "name": "stdout",
          "text": [
            "using full -> tensor([[5, 5, 5],\n",
            "        [5, 5, 5],\n",
            "        [5, 5, 5]])\n"
          ]
        }
      ]
    },
    {
      "cell_type": "markdown",
      "source": [
        "TENSOR SHAPES\n"
      ],
      "metadata": {
        "id": "abUsH3HDOWeK"
      }
    },
    {
      "cell_type": "code",
      "source": [
        "x = torch.tensor([[1,2,3], [4,5,6]])"
      ],
      "metadata": {
        "id": "g1dDmGo5OY-f"
      },
      "execution_count": null,
      "outputs": []
    },
    {
      "cell_type": "code",
      "source": [
        "x.shape"
      ],
      "metadata": {
        "colab": {
          "base_uri": "https://localhost:8080/"
        },
        "id": "DvFIb2ClOjEu",
        "outputId": "b67f48fd-f798-4fea-c629-7574152e32ef"
      },
      "execution_count": null,
      "outputs": [
        {
          "output_type": "execute_result",
          "data": {
            "text/plain": [
              "torch.Size([2, 3])"
            ]
          },
          "metadata": {},
          "execution_count": 16
        }
      ]
    },
    {
      "cell_type": "code",
      "source": [
        "torch.empty_like(x)"
      ],
      "metadata": {
        "colab": {
          "base_uri": "https://localhost:8080/"
        },
        "id": "U9WyAqPbOntT",
        "outputId": "b0673701-25d6-4069-d560-ccfbc2ead3d0"
      },
      "execution_count": null,
      "outputs": [
        {
          "output_type": "execute_result",
          "data": {
            "text/plain": [
              "tensor([[3616445622929465956, 6067528668260871477, 3545804294692942384],\n",
              "        [6500164550668597550, 7309453675965983778, 8315168162784306286]])"
            ]
          },
          "metadata": {},
          "execution_count": 17
        }
      ]
    },
    {
      "cell_type": "code",
      "source": [
        "torch.zeros_like(x)"
      ],
      "metadata": {
        "colab": {
          "base_uri": "https://localhost:8080/"
        },
        "id": "DLJQvWxMOso9",
        "outputId": "3371282d-a6d8-4c06-8ee3-2d7486949098"
      },
      "execution_count": null,
      "outputs": [
        {
          "output_type": "execute_result",
          "data": {
            "text/plain": [
              "tensor([[0, 0, 0],\n",
              "        [0, 0, 0]])"
            ]
          },
          "metadata": {},
          "execution_count": 18
        }
      ]
    },
    {
      "cell_type": "code",
      "source": [
        "torch.ones_like(x)"
      ],
      "metadata": {
        "colab": {
          "base_uri": "https://localhost:8080/"
        },
        "id": "-JRDM2YcOxcm",
        "outputId": "2fcff838-6e8a-4eaa-ad99-f3c1c2198340"
      },
      "execution_count": null,
      "outputs": [
        {
          "output_type": "execute_result",
          "data": {
            "text/plain": [
              "tensor([[1, 1, 1],\n",
              "        [1, 1, 1]])"
            ]
          },
          "metadata": {},
          "execution_count": 19
        }
      ]
    },
    {
      "cell_type": "code",
      "source": [
        "torch.rand_like(x, dtype=torch.float32)"
      ],
      "metadata": {
        "colab": {
          "base_uri": "https://localhost:8080/"
        },
        "id": "9EaReBzkO0RS",
        "outputId": "e81a2ae0-66b5-4d7e-bcfe-2a83d5530d90"
      },
      "execution_count": null,
      "outputs": [
        {
          "output_type": "execute_result",
          "data": {
            "text/plain": [
              "tensor([[0.2666, 0.6274, 0.2696],\n",
              "        [0.4414, 0.2969, 0.8317]])"
            ]
          },
          "metadata": {},
          "execution_count": 20
        }
      ]
    },
    {
      "cell_type": "markdown",
      "source": [
        "**TENSOR DATA TYPES**"
      ],
      "metadata": {
        "id": "KPGbZ5BlPHGf"
      }
    },
    {
      "cell_type": "code",
      "source": [
        "x.dtype"
      ],
      "metadata": {
        "colab": {
          "base_uri": "https://localhost:8080/"
        },
        "id": "Z2gIHTTdPQwB",
        "outputId": "5e9e7e0e-6693-4e73-b63d-017e38c3665c"
      },
      "execution_count": null,
      "outputs": [
        {
          "output_type": "execute_result",
          "data": {
            "text/plain": [
              "torch.int64"
            ]
          },
          "metadata": {},
          "execution_count": 21
        }
      ]
    },
    {
      "cell_type": "code",
      "source": [
        "torch.tensor([1.0,2.0,3.0], dtype=torch.int32)"
      ],
      "metadata": {
        "colab": {
          "base_uri": "https://localhost:8080/"
        },
        "id": "KLBS7hFDPXrb",
        "outputId": "0a8a6f00-9fb2-44e6-8bd2-558cecf76f0a"
      },
      "execution_count": null,
      "outputs": [
        {
          "output_type": "execute_result",
          "data": {
            "text/plain": [
              "tensor([1, 2, 3], dtype=torch.int32)"
            ]
          },
          "metadata": {},
          "execution_count": 22
        }
      ]
    },
    {
      "cell_type": "code",
      "source": [
        "torch.tensor([1,2,3], dtype=torch.float64)"
      ],
      "metadata": {
        "colab": {
          "base_uri": "https://localhost:8080/"
        },
        "id": "kd7wv9aTPoNy",
        "outputId": "3eb3411d-79d2-421c-ab12-a38c6b93d6cf"
      },
      "execution_count": null,
      "outputs": [
        {
          "output_type": "execute_result",
          "data": {
            "text/plain": [
              "tensor([1., 2., 3.], dtype=torch.float64)"
            ]
          },
          "metadata": {},
          "execution_count": 23
        }
      ]
    },
    {
      "cell_type": "code",
      "source": [
        "x.to(torch.float32)"
      ],
      "metadata": {
        "colab": {
          "base_uri": "https://localhost:8080/"
        },
        "id": "pokFqKbYPzFr",
        "outputId": "51433928-53cf-4e2a-9782-17dccb17105c"
      },
      "execution_count": null,
      "outputs": [
        {
          "output_type": "execute_result",
          "data": {
            "text/plain": [
              "tensor([[1., 2., 3.],\n",
              "        [4., 5., 6.]])"
            ]
          },
          "metadata": {},
          "execution_count": 24
        }
      ]
    },
    {
      "cell_type": "markdown",
      "source": [
        "SCALAR OPERATION"
      ],
      "metadata": {
        "id": "_uyTHS4Jqj2Z"
      }
    },
    {
      "cell_type": "code",
      "source": [
        "x = torch.rand(2,2)"
      ],
      "metadata": {
        "id": "JgjraNVaqoQh"
      },
      "execution_count": null,
      "outputs": []
    },
    {
      "cell_type": "code",
      "source": [
        "x+2"
      ],
      "metadata": {
        "colab": {
          "base_uri": "https://localhost:8080/"
        },
        "id": "VwMP7qoYqtIJ",
        "outputId": "ac7531e9-71ae-410e-80e4-3fba577e914d"
      },
      "execution_count": null,
      "outputs": [
        {
          "output_type": "execute_result",
          "data": {
            "text/plain": [
              "tensor([[2.1053, 2.2695],\n",
              "        [2.3588, 2.1994]])"
            ]
          },
          "metadata": {},
          "execution_count": 26
        }
      ]
    },
    {
      "cell_type": "code",
      "source": [
        "x-2"
      ],
      "metadata": {
        "colab": {
          "base_uri": "https://localhost:8080/"
        },
        "id": "Iw-uGHNmqzI9",
        "outputId": "b3a150b5-5940-40a9-af24-4bfc4424bd6e"
      },
      "execution_count": null,
      "outputs": [
        {
          "output_type": "execute_result",
          "data": {
            "text/plain": [
              "tensor([[-1.8947, -1.7305],\n",
              "        [-1.6412, -1.8006]])"
            ]
          },
          "metadata": {},
          "execution_count": 27
        }
      ]
    },
    {
      "cell_type": "code",
      "source": [
        "x/3"
      ],
      "metadata": {
        "colab": {
          "base_uri": "https://localhost:8080/"
        },
        "id": "jPJZwVMGq0OD",
        "outputId": "76f364e8-0e36-49f3-b144-b5a41b6993c0"
      },
      "execution_count": null,
      "outputs": [
        {
          "output_type": "execute_result",
          "data": {
            "text/plain": [
              "tensor([[0.0351, 0.0898],\n",
              "        [0.1196, 0.0665]])"
            ]
          },
          "metadata": {},
          "execution_count": 28
        }
      ]
    },
    {
      "cell_type": "code",
      "source": [
        "(x*100)//3"
      ],
      "metadata": {
        "colab": {
          "base_uri": "https://localhost:8080/"
        },
        "id": "OeTFbg6bq6Bj",
        "outputId": "126f0ed1-3ada-4d8f-a9e1-8cf093da9070"
      },
      "execution_count": null,
      "outputs": [
        {
          "output_type": "execute_result",
          "data": {
            "text/plain": [
              "tensor([[ 3.,  8.],\n",
              "        [11.,  6.]])"
            ]
          },
          "metadata": {},
          "execution_count": 29
        }
      ]
    },
    {
      "cell_type": "code",
      "source": [
        "((x*100)//3)%2"
      ],
      "metadata": {
        "colab": {
          "base_uri": "https://localhost:8080/"
        },
        "id": "q3ilGZ2Vx2QJ",
        "outputId": "42073749-9c2f-48e8-953b-5641510d916a"
      },
      "execution_count": null,
      "outputs": [
        {
          "output_type": "execute_result",
          "data": {
            "text/plain": [
              "tensor([[1., 0.],\n",
              "        [1., 0.]])"
            ]
          },
          "metadata": {},
          "execution_count": 30
        }
      ]
    },
    {
      "cell_type": "code",
      "source": [
        "x**2"
      ],
      "metadata": {
        "colab": {
          "base_uri": "https://localhost:8080/"
        },
        "id": "QJpfZkneyI1V",
        "outputId": "7d8fb5a8-47c7-4046-a70e-a9b103eadb4d"
      },
      "execution_count": null,
      "outputs": [
        {
          "output_type": "execute_result",
          "data": {
            "text/plain": [
              "tensor([[0.0111, 0.0726],\n",
              "        [0.1287, 0.0397]])"
            ]
          },
          "metadata": {},
          "execution_count": 31
        }
      ]
    },
    {
      "cell_type": "markdown",
      "source": [
        "ELEMENT WISE OPERATION"
      ],
      "metadata": {
        "id": "usiMlw5byREK"
      }
    },
    {
      "cell_type": "code",
      "source": [
        "a = torch.rand(3,6)\n",
        "b = torch.rand(3,6)\n",
        "print(a)\n",
        "print(b)"
      ],
      "metadata": {
        "colab": {
          "base_uri": "https://localhost:8080/"
        },
        "id": "DQqSp-u9yTyj",
        "outputId": "f2501849-7b10-4e46-f1ce-f115606b0362"
      },
      "execution_count": null,
      "outputs": [
        {
          "output_type": "stream",
          "name": "stdout",
          "text": [
            "tensor([[0.5472, 0.0062, 0.9516, 0.0753, 0.8860, 0.5832],\n",
            "        [0.3376, 0.8090, 0.5779, 0.9040, 0.5547, 0.3423],\n",
            "        [0.6343, 0.3644, 0.7104, 0.9464, 0.7890, 0.2814]])\n",
            "tensor([[0.7886, 0.5895, 0.7539, 0.1952, 0.0050, 0.3068],\n",
            "        [0.1165, 0.9103, 0.6440, 0.7071, 0.6581, 0.4913],\n",
            "        [0.8913, 0.1447, 0.5315, 0.1587, 0.6542, 0.3278]])\n"
          ]
        }
      ]
    },
    {
      "cell_type": "code",
      "source": [
        "a+b"
      ],
      "metadata": {
        "colab": {
          "base_uri": "https://localhost:8080/"
        },
        "id": "Re8UmzvzyziD",
        "outputId": "c4d4bab5-744c-40c4-9b28-fc56cbb2245c"
      },
      "execution_count": null,
      "outputs": [
        {
          "output_type": "execute_result",
          "data": {
            "text/plain": [
              "tensor([[1.3358, 0.5956, 1.7055, 0.2705, 0.8911, 0.8900],\n",
              "        [0.4541, 1.7192, 1.2219, 1.6111, 1.2128, 0.8336],\n",
              "        [1.5256, 0.5092, 1.2419, 1.1051, 1.4432, 0.6092]])"
            ]
          },
          "metadata": {},
          "execution_count": 33
        }
      ]
    },
    {
      "cell_type": "code",
      "source": [
        "a-b"
      ],
      "metadata": {
        "colab": {
          "base_uri": "https://localhost:8080/"
        },
        "id": "MtbS9bsny1pG",
        "outputId": "5502f14c-f093-4bf2-fdf1-38ce7b1cd819"
      },
      "execution_count": null,
      "outputs": [
        {
          "output_type": "execute_result",
          "data": {
            "text/plain": [
              "tensor([[-0.2414, -0.5833,  0.1976, -0.1200,  0.8810,  0.2764],\n",
              "        [ 0.2212, -0.1013, -0.0661,  0.1969, -0.1035, -0.1490],\n",
              "        [-0.2570,  0.2197,  0.1789,  0.7877,  0.1349, -0.0464]])"
            ]
          },
          "metadata": {},
          "execution_count": 34
        }
      ]
    },
    {
      "cell_type": "code",
      "source": [
        "a*b"
      ],
      "metadata": {
        "colab": {
          "base_uri": "https://localhost:8080/"
        },
        "id": "6tRHujiIy3ky",
        "outputId": "d0badc36-9326-40fe-e145-dd8008f42710"
      },
      "execution_count": null,
      "outputs": [
        {
          "output_type": "execute_result",
          "data": {
            "text/plain": [
              "tensor([[0.4315, 0.0036, 0.7174, 0.0147, 0.0045, 0.1789],\n",
              "        [0.0393, 0.7364, 0.3722, 0.6392, 0.3650, 0.1682],\n",
              "        [0.5654, 0.0527, 0.3776, 0.1502, 0.5162, 0.0922]])"
            ]
          },
          "metadata": {},
          "execution_count": 35
        }
      ]
    },
    {
      "cell_type": "code",
      "source": [
        "a/b"
      ],
      "metadata": {
        "colab": {
          "base_uri": "https://localhost:8080/"
        },
        "id": "VU3eXdyGy6y2",
        "outputId": "d5141d2b-698a-4f61-d62f-c05ceb72c36c"
      },
      "execution_count": null,
      "outputs": [
        {
          "output_type": "execute_result",
          "data": {
            "text/plain": [
              "tensor([[6.9385e-01, 1.0451e-02, 1.2621e+00, 3.8549e-01, 1.7560e+02, 1.9008e+00],\n",
              "        [2.8985e+00, 8.8872e-01, 8.9738e-01, 1.2784e+00, 8.4278e-01, 6.9675e-01],\n",
              "        [7.1170e-01, 2.5176e+00, 1.3367e+00, 5.9624e+00, 1.2061e+00, 8.5847e-01]])"
            ]
          },
          "metadata": {},
          "execution_count": 36
        }
      ]
    },
    {
      "cell_type": "code",
      "source": [
        "a**b"
      ],
      "metadata": {
        "colab": {
          "base_uri": "https://localhost:8080/"
        },
        "id": "6LYkM8-0y9-F",
        "outputId": "e18d81d7-5461-4570-c0b1-8695396a31f1"
      },
      "execution_count": null,
      "outputs": [
        {
          "output_type": "execute_result",
          "data": {
            "text/plain": [
              "tensor([[0.6216, 0.0498, 0.9633, 0.6035, 0.9994, 0.8475],\n",
              "        [0.8812, 0.8245, 0.7025, 0.9311, 0.6785, 0.5906],\n",
              "        [0.6665, 0.8641, 0.8338, 0.9913, 0.8564, 0.6599]])"
            ]
          },
          "metadata": {},
          "execution_count": 37
        }
      ]
    },
    {
      "cell_type": "code",
      "source": [
        "c = torch.tensor([1,-2,3,-4])"
      ],
      "metadata": {
        "id": "pEhyjf3GzGGR"
      },
      "execution_count": null,
      "outputs": []
    },
    {
      "cell_type": "code",
      "source": [
        "torch.abs(c)"
      ],
      "metadata": {
        "colab": {
          "base_uri": "https://localhost:8080/"
        },
        "id": "Y3AH877YzPLZ",
        "outputId": "d6f57d30-6e73-4e37-e2d1-0a30ac108c4c"
      },
      "execution_count": null,
      "outputs": [
        {
          "output_type": "execute_result",
          "data": {
            "text/plain": [
              "tensor([1, 2, 3, 4])"
            ]
          },
          "metadata": {},
          "execution_count": 39
        }
      ]
    },
    {
      "cell_type": "code",
      "source": [
        "torch.neg(c)"
      ],
      "metadata": {
        "colab": {
          "base_uri": "https://localhost:8080/"
        },
        "id": "g8DPLhqLzf61",
        "outputId": "16ecf3d2-1ab7-4957-c2e5-0316f53cbed1"
      },
      "execution_count": null,
      "outputs": [
        {
          "output_type": "execute_result",
          "data": {
            "text/plain": [
              "tensor([-1,  2, -3,  4])"
            ]
          },
          "metadata": {},
          "execution_count": 40
        }
      ]
    },
    {
      "cell_type": "code",
      "source": [
        "d = torch.tensor([1.9,2.3,3.7,4.4])"
      ],
      "metadata": {
        "id": "NoEzHS1Tzn49"
      },
      "execution_count": null,
      "outputs": []
    },
    {
      "cell_type": "code",
      "source": [
        "torch.round(d)"
      ],
      "metadata": {
        "colab": {
          "base_uri": "https://localhost:8080/"
        },
        "id": "InOZaEZjz6gm",
        "outputId": "fd561b89-b9d4-44ee-ff70-1c30dc10d1b7"
      },
      "execution_count": null,
      "outputs": [
        {
          "output_type": "execute_result",
          "data": {
            "text/plain": [
              "tensor([2., 2., 4., 4.])"
            ]
          },
          "metadata": {},
          "execution_count": 42
        }
      ]
    },
    {
      "cell_type": "code",
      "source": [
        "torch.ceil(d)"
      ],
      "metadata": {
        "colab": {
          "base_uri": "https://localhost:8080/"
        },
        "id": "TA1kwh-fz8-r",
        "outputId": "9f1befc7-5a42-4eb2-fdce-41302cee17cd"
      },
      "execution_count": null,
      "outputs": [
        {
          "output_type": "execute_result",
          "data": {
            "text/plain": [
              "tensor([2., 3., 4., 5.])"
            ]
          },
          "metadata": {},
          "execution_count": 43
        }
      ]
    },
    {
      "cell_type": "code",
      "source": [
        "torch.floor(d)"
      ],
      "metadata": {
        "colab": {
          "base_uri": "https://localhost:8080/"
        },
        "id": "hXzdZ30Lz_Hu",
        "outputId": "8e6a083a-afb3-4af9-ad51-428de412bb3d"
      },
      "execution_count": null,
      "outputs": [
        {
          "output_type": "execute_result",
          "data": {
            "text/plain": [
              "tensor([1., 2., 3., 4.])"
            ]
          },
          "metadata": {},
          "execution_count": 44
        }
      ]
    },
    {
      "cell_type": "code",
      "source": [
        "torch.clamp(d, min=2, max=3)"
      ],
      "metadata": {
        "colab": {
          "base_uri": "https://localhost:8080/"
        },
        "id": "A9LNkUtW0CgK",
        "outputId": "40ad2e07-73ca-4553-962b-1f8f547e0e44"
      },
      "execution_count": null,
      "outputs": [
        {
          "output_type": "execute_result",
          "data": {
            "text/plain": [
              "tensor([2.0000, 2.3000, 3.0000, 3.0000])"
            ]
          },
          "metadata": {},
          "execution_count": 45
        }
      ]
    },
    {
      "cell_type": "markdown",
      "source": [
        "REDUCTION OPERATION"
      ],
      "metadata": {
        "id": "_rwTL6RX0NZz"
      }
    },
    {
      "cell_type": "code",
      "source": [
        "e = torch.randint(size=(2,3), low=0, high=10, dtype=torch.float32)"
      ],
      "metadata": {
        "id": "22dnuS8B0Pyc"
      },
      "execution_count": null,
      "outputs": []
    },
    {
      "cell_type": "code",
      "source": [
        "e"
      ],
      "metadata": {
        "colab": {
          "base_uri": "https://localhost:8080/"
        },
        "id": "rF8NxZS20jhb",
        "outputId": "b6da6a68-7f22-40ce-b83b-9e68ccf7ccb8"
      },
      "execution_count": null,
      "outputs": [
        {
          "output_type": "execute_result",
          "data": {
            "text/plain": [
              "tensor([[0., 1., 3.],\n",
              "        [0., 1., 1.]])"
            ]
          },
          "metadata": {},
          "execution_count": 47
        }
      ]
    },
    {
      "cell_type": "code",
      "source": [
        "torch.sum(e)"
      ],
      "metadata": {
        "colab": {
          "base_uri": "https://localhost:8080/"
        },
        "id": "eB-wZwiD0c1i",
        "outputId": "484456ab-762a-4669-f57c-ac2d23df730b"
      },
      "execution_count": null,
      "outputs": [
        {
          "output_type": "execute_result",
          "data": {
            "text/plain": [
              "tensor(6.)"
            ]
          },
          "metadata": {},
          "execution_count": 48
        }
      ]
    },
    {
      "cell_type": "code",
      "source": [
        "torch.sum(e, dim=0)"
      ],
      "metadata": {
        "colab": {
          "base_uri": "https://localhost:8080/"
        },
        "id": "S_EbQ0mp0tSL",
        "outputId": "87074389-3b27-42bd-804c-4b63ca9104a2"
      },
      "execution_count": null,
      "outputs": [
        {
          "output_type": "execute_result",
          "data": {
            "text/plain": [
              "tensor([0., 2., 4.])"
            ]
          },
          "metadata": {},
          "execution_count": 49
        }
      ]
    },
    {
      "cell_type": "code",
      "source": [
        "torch.sum(e, dim=1)"
      ],
      "metadata": {
        "colab": {
          "base_uri": "https://localhost:8080/"
        },
        "id": "bWqntBxR0yZW",
        "outputId": "45c07a2c-f89c-41bf-c672-e83b0a6f5859"
      },
      "execution_count": null,
      "outputs": [
        {
          "output_type": "execute_result",
          "data": {
            "text/plain": [
              "tensor([4., 2.])"
            ]
          },
          "metadata": {},
          "execution_count": 50
        }
      ]
    },
    {
      "cell_type": "code",
      "source": [
        "torch.mean(e)"
      ],
      "metadata": {
        "colab": {
          "base_uri": "https://localhost:8080/"
        },
        "id": "rMxc1fPb07Q7",
        "outputId": "30a235bb-3748-4f35-dffe-9d2db0e37a27"
      },
      "execution_count": null,
      "outputs": [
        {
          "output_type": "execute_result",
          "data": {
            "text/plain": [
              "tensor(1.)"
            ]
          },
          "metadata": {},
          "execution_count": 51
        }
      ]
    },
    {
      "cell_type": "code",
      "source": [
        "torch.mean(e, dim=0)"
      ],
      "metadata": {
        "colab": {
          "base_uri": "https://localhost:8080/"
        },
        "id": "n4Lpn9e61zeH",
        "outputId": "62b34c98-3941-4669-d611-e56ea86dca31"
      },
      "execution_count": null,
      "outputs": [
        {
          "output_type": "execute_result",
          "data": {
            "text/plain": [
              "tensor([0., 1., 2.])"
            ]
          },
          "metadata": {},
          "execution_count": 52
        }
      ]
    },
    {
      "cell_type": "code",
      "source": [
        "torch.mean(e, dim=1)"
      ],
      "metadata": {
        "colab": {
          "base_uri": "https://localhost:8080/"
        },
        "id": "pF-YbeH513QM",
        "outputId": "3bf4e664-a457-40c1-f974-aedd572a09df"
      },
      "execution_count": null,
      "outputs": [
        {
          "output_type": "execute_result",
          "data": {
            "text/plain": [
              "tensor([1.3333, 0.6667])"
            ]
          },
          "metadata": {},
          "execution_count": 53
        }
      ]
    },
    {
      "cell_type": "code",
      "source": [
        "torch.median(e)"
      ],
      "metadata": {
        "colab": {
          "base_uri": "https://localhost:8080/"
        },
        "id": "z44gWO8G1766",
        "outputId": "48ef6f5e-2013-4b21-a2b9-a28f792c30bd"
      },
      "execution_count": null,
      "outputs": [
        {
          "output_type": "execute_result",
          "data": {
            "text/plain": [
              "tensor(1.)"
            ]
          },
          "metadata": {},
          "execution_count": 54
        }
      ]
    },
    {
      "cell_type": "code",
      "source": [
        "torch.max(e)\n",
        "torch.min(e)"
      ],
      "metadata": {
        "colab": {
          "base_uri": "https://localhost:8080/"
        },
        "id": "6LpW13fs2Cho",
        "outputId": "aba4944e-85e7-4baa-dcf9-0391885da535"
      },
      "execution_count": null,
      "outputs": [
        {
          "output_type": "execute_result",
          "data": {
            "text/plain": [
              "tensor(0.)"
            ]
          },
          "metadata": {},
          "execution_count": 55
        }
      ]
    },
    {
      "cell_type": "code",
      "source": [
        "torch.prod(e)"
      ],
      "metadata": {
        "colab": {
          "base_uri": "https://localhost:8080/"
        },
        "id": "CrI0fuuj2HNf",
        "outputId": "ae6f372a-9b53-41ce-87c8-4e22473f784a"
      },
      "execution_count": null,
      "outputs": [
        {
          "output_type": "execute_result",
          "data": {
            "text/plain": [
              "tensor(0.)"
            ]
          },
          "metadata": {},
          "execution_count": 56
        }
      ]
    },
    {
      "cell_type": "code",
      "source": [
        "torch.std(e)"
      ],
      "metadata": {
        "colab": {
          "base_uri": "https://localhost:8080/"
        },
        "id": "LvexFOc82S2C",
        "outputId": "fdb4c271-f9b3-4519-fda8-3ec6dfb946c2"
      },
      "execution_count": null,
      "outputs": [
        {
          "output_type": "execute_result",
          "data": {
            "text/plain": [
              "tensor(1.0954)"
            ]
          },
          "metadata": {},
          "execution_count": 57
        }
      ]
    },
    {
      "cell_type": "code",
      "source": [
        "torch.var(e)"
      ],
      "metadata": {
        "colab": {
          "base_uri": "https://localhost:8080/"
        },
        "id": "5fy78bbs2VEI",
        "outputId": "2cd1e279-890e-49ca-8fbd-36e90882b8fc"
      },
      "execution_count": null,
      "outputs": [
        {
          "output_type": "execute_result",
          "data": {
            "text/plain": [
              "tensor(1.2000)"
            ]
          },
          "metadata": {},
          "execution_count": 58
        }
      ]
    },
    {
      "cell_type": "code",
      "source": [
        "torch.argmax(e)"
      ],
      "metadata": {
        "colab": {
          "base_uri": "https://localhost:8080/"
        },
        "id": "BOjYQJ4i2ZX2",
        "outputId": "38de8002-72a2-4e40-cfe5-9d622dad8470"
      },
      "execution_count": null,
      "outputs": [
        {
          "output_type": "execute_result",
          "data": {
            "text/plain": [
              "tensor(2)"
            ]
          },
          "metadata": {},
          "execution_count": 59
        }
      ]
    },
    {
      "cell_type": "code",
      "source": [
        "torch.argmin(e)"
      ],
      "metadata": {
        "colab": {
          "base_uri": "https://localhost:8080/"
        },
        "id": "PFnZkMDq9Cx3",
        "outputId": "e598e831-7fc5-424c-d779-3036ebd61edc"
      },
      "execution_count": null,
      "outputs": [
        {
          "output_type": "execute_result",
          "data": {
            "text/plain": [
              "tensor(0)"
            ]
          },
          "metadata": {},
          "execution_count": 60
        }
      ]
    },
    {
      "cell_type": "markdown",
      "source": [
        "MATRIX OPERATIONS"
      ],
      "metadata": {
        "id": "FxMjFKCP9R7b"
      }
    },
    {
      "cell_type": "code",
      "source": [
        "f = torch.randint(size=(3,6), low=0, high=10)\n",
        "g = torch.randint(size=(6,3), low=0, high=10)\n",
        "print(f)\n",
        "print(g)"
      ],
      "metadata": {
        "colab": {
          "base_uri": "https://localhost:8080/"
        },
        "id": "BkQlWN1F9VmH",
        "outputId": "2b098e19-7b93-40c1-d7cf-2388b711bbd7"
      },
      "execution_count": null,
      "outputs": [
        {
          "output_type": "stream",
          "name": "stdout",
          "text": [
            "tensor([[7, 9, 4, 3, 8, 9],\n",
            "        [3, 7, 8, 1, 4, 1],\n",
            "        [6, 3, 2, 0, 9, 8]])\n",
            "tensor([[5, 3, 7],\n",
            "        [7, 5, 9],\n",
            "        [1, 5, 1],\n",
            "        [9, 1, 4],\n",
            "        [0, 3, 7],\n",
            "        [5, 7, 1]])\n"
          ]
        }
      ]
    },
    {
      "cell_type": "code",
      "source": [
        "torch.matmul(f,g)"
      ],
      "metadata": {
        "colab": {
          "base_uri": "https://localhost:8080/"
        },
        "id": "tEUX6Glp98ER",
        "outputId": "600a4858-d6b5-4c57-ab24-1ae9dbb74384"
      },
      "execution_count": null,
      "outputs": [
        {
          "output_type": "execute_result",
          "data": {
            "text/plain": [
              "tensor([[174, 176, 211],\n",
              "        [ 86, 104, 125],\n",
              "        [ 93, 126, 142]])"
            ]
          },
          "metadata": {},
          "execution_count": 62
        }
      ]
    },
    {
      "cell_type": "code",
      "source": [
        "vector1 = torch.tensor([3,4])\n",
        "vector2 = torch.tensor([5,6])\n",
        "torch.dot(vector1, vector2)"
      ],
      "metadata": {
        "colab": {
          "base_uri": "https://localhost:8080/"
        },
        "id": "tCveOOzJ-GlE",
        "outputId": "c2986ac4-2758-4bff-dd30-7a8b6748d98f"
      },
      "execution_count": null,
      "outputs": [
        {
          "output_type": "execute_result",
          "data": {
            "text/plain": [
              "tensor(39)"
            ]
          },
          "metadata": {},
          "execution_count": 63
        }
      ]
    },
    {
      "cell_type": "code",
      "source": [
        "torch.transpose(f, 0, 1)"
      ],
      "metadata": {
        "colab": {
          "base_uri": "https://localhost:8080/"
        },
        "id": "Z__ykexs-bgy",
        "outputId": "be66caf8-9331-4aba-e37b-183683d937c1"
      },
      "execution_count": null,
      "outputs": [
        {
          "output_type": "execute_result",
          "data": {
            "text/plain": [
              "tensor([[7, 3, 6],\n",
              "        [9, 7, 3],\n",
              "        [4, 8, 2],\n",
              "        [3, 1, 0],\n",
              "        [8, 4, 9],\n",
              "        [9, 1, 8]])"
            ]
          },
          "metadata": {},
          "execution_count": 64
        }
      ]
    },
    {
      "cell_type": "code",
      "source": [
        "h = torch.randint(size=(3,3), low=0, high=10, dtype=torch.float32)\n",
        "print(h)"
      ],
      "metadata": {
        "colab": {
          "base_uri": "https://localhost:8080/"
        },
        "id": "XNhQ-3ME-yin",
        "outputId": "13670b56-5571-42ce-e349-20c02b461c3e"
      },
      "execution_count": null,
      "outputs": [
        {
          "output_type": "stream",
          "name": "stdout",
          "text": [
            "tensor([[5., 7., 5.],\n",
            "        [8., 5., 4.],\n",
            "        [1., 1., 0.]])\n"
          ]
        }
      ]
    },
    {
      "cell_type": "code",
      "source": [
        "torch.det(h)"
      ],
      "metadata": {
        "colab": {
          "base_uri": "https://localhost:8080/"
        },
        "id": "9ozfPHDm-ruA",
        "outputId": "7484de0c-0710-48b6-a3fa-92f60f74d58a"
      },
      "execution_count": null,
      "outputs": [
        {
          "output_type": "execute_result",
          "data": {
            "text/plain": [
              "tensor(23.0000)"
            ]
          },
          "metadata": {},
          "execution_count": 66
        }
      ]
    },
    {
      "cell_type": "code",
      "source": [
        "torch.inverse(h)"
      ],
      "metadata": {
        "colab": {
          "base_uri": "https://localhost:8080/"
        },
        "id": "D-Pp8T1v_D07",
        "outputId": "069b1fe5-02cf-437e-f4b4-89493b9a0a26"
      },
      "execution_count": null,
      "outputs": [
        {
          "output_type": "execute_result",
          "data": {
            "text/plain": [
              "tensor([[-0.1739,  0.2174,  0.1304],\n",
              "        [ 0.1739, -0.2174,  0.8696],\n",
              "        [ 0.1304,  0.0870, -1.3478]])"
            ]
          },
          "metadata": {},
          "execution_count": 67
        }
      ]
    },
    {
      "cell_type": "markdown",
      "source": [
        "COMPARISON OPERATIONS"
      ],
      "metadata": {
        "id": "nbsnELt9_QAq"
      }
    },
    {
      "cell_type": "code",
      "source": [
        "i = torch.randint(size=(3,6), low=0, high=10)\n",
        "j = torch.randint(size=(3,6), low=0, high=10)\n",
        "print(i)\n",
        "print(j)"
      ],
      "metadata": {
        "colab": {
          "base_uri": "https://localhost:8080/"
        },
        "id": "sVKoMbbD_Xeq",
        "outputId": "50aca7cd-1c3f-4659-d866-6df4880286f1"
      },
      "execution_count": null,
      "outputs": [
        {
          "output_type": "stream",
          "name": "stdout",
          "text": [
            "tensor([[9, 0, 9, 1, 8, 9],\n",
            "        [6, 7, 6, 0, 9, 5],\n",
            "        [2, 9, 1, 7, 8, 6]])\n",
            "tensor([[0, 6, 8, 6, 8, 0],\n",
            "        [6, 9, 0, 5, 9, 5],\n",
            "        [2, 0, 8, 8, 7, 2]])\n"
          ]
        }
      ]
    },
    {
      "cell_type": "code",
      "source": [
        "i > j"
      ],
      "metadata": {
        "colab": {
          "base_uri": "https://localhost:8080/"
        },
        "id": "xJKqOvYgAL1r",
        "outputId": "ae2d92b8-fe13-4ce6-a9e8-0e255c68302d"
      },
      "execution_count": null,
      "outputs": [
        {
          "output_type": "execute_result",
          "data": {
            "text/plain": [
              "tensor([[ True, False,  True, False, False,  True],\n",
              "        [False, False,  True, False, False, False],\n",
              "        [False,  True, False, False,  True,  True]])"
            ]
          },
          "metadata": {},
          "execution_count": 69
        }
      ]
    },
    {
      "cell_type": "code",
      "source": [
        "i < j"
      ],
      "metadata": {
        "colab": {
          "base_uri": "https://localhost:8080/"
        },
        "id": "KPAgPN4VAOCR",
        "outputId": "df039d22-e874-40da-ac45-6730d6b89bbb"
      },
      "execution_count": null,
      "outputs": [
        {
          "output_type": "execute_result",
          "data": {
            "text/plain": [
              "tensor([[False,  True, False,  True, False, False],\n",
              "        [False,  True, False,  True, False, False],\n",
              "        [False, False,  True,  True, False, False]])"
            ]
          },
          "metadata": {},
          "execution_count": 70
        }
      ]
    },
    {
      "cell_type": "code",
      "source": [
        "i == j"
      ],
      "metadata": {
        "colab": {
          "base_uri": "https://localhost:8080/"
        },
        "id": "y9RnKIHoAQFF",
        "outputId": "5fb6f8e2-df8b-453f-be68-b50b90f2be2c"
      },
      "execution_count": null,
      "outputs": [
        {
          "output_type": "execute_result",
          "data": {
            "text/plain": [
              "tensor([[False, False, False, False,  True, False],\n",
              "        [ True, False, False, False,  True,  True],\n",
              "        [ True, False, False, False, False, False]])"
            ]
          },
          "metadata": {},
          "execution_count": 71
        }
      ]
    },
    {
      "cell_type": "code",
      "source": [
        "i != j"
      ],
      "metadata": {
        "colab": {
          "base_uri": "https://localhost:8080/"
        },
        "id": "TvQIz_6YAl_o",
        "outputId": "72200f7e-c55f-4874-d23f-7989b4561c86"
      },
      "execution_count": null,
      "outputs": [
        {
          "output_type": "execute_result",
          "data": {
            "text/plain": [
              "tensor([[ True,  True,  True,  True, False,  True],\n",
              "        [False,  True,  True,  True, False, False],\n",
              "        [False,  True,  True,  True,  True,  True]])"
            ]
          },
          "metadata": {},
          "execution_count": 72
        }
      ]
    },
    {
      "cell_type": "code",
      "source": [
        "i >= j"
      ],
      "metadata": {
        "colab": {
          "base_uri": "https://localhost:8080/"
        },
        "id": "cJULivzfApuQ",
        "outputId": "2b62f989-fb29-4b28-e1d0-6a6bb8f37ee5"
      },
      "execution_count": null,
      "outputs": [
        {
          "output_type": "execute_result",
          "data": {
            "text/plain": [
              "tensor([[ True, False,  True, False,  True,  True],\n",
              "        [ True, False,  True, False,  True,  True],\n",
              "        [ True,  True, False, False,  True,  True]])"
            ]
          },
          "metadata": {},
          "execution_count": 73
        }
      ]
    },
    {
      "cell_type": "code",
      "source": [
        "i <= j"
      ],
      "metadata": {
        "colab": {
          "base_uri": "https://localhost:8080/"
        },
        "id": "XrH9boLAArqf",
        "outputId": "2f71099b-a209-4cc7-bbfc-1ea564f40937"
      },
      "execution_count": null,
      "outputs": [
        {
          "output_type": "execute_result",
          "data": {
            "text/plain": [
              "tensor([[False,  True, False,  True,  True, False],\n",
              "        [ True,  True, False,  True,  True,  True],\n",
              "        [ True, False,  True,  True, False, False]])"
            ]
          },
          "metadata": {},
          "execution_count": 74
        }
      ]
    },
    {
      "cell_type": "markdown",
      "source": [
        "SPECIAL FUNCTIONS"
      ],
      "metadata": {
        "id": "TkVMyvU1A0se"
      }
    },
    {
      "cell_type": "code",
      "source": [
        "k = torch.randint(size=(3,6), low=0, high=10, dtype=torch.float32)\n",
        "print(k)\n",
        "k"
      ],
      "metadata": {
        "colab": {
          "base_uri": "https://localhost:8080/"
        },
        "id": "e-KecrqFA3g5",
        "outputId": "34633004-a77e-4d36-f53b-1d8b7ae1035d"
      },
      "execution_count": null,
      "outputs": [
        {
          "output_type": "stream",
          "name": "stdout",
          "text": [
            "tensor([[2., 6., 8., 2., 7., 6.],\n",
            "        [3., 0., 3., 6., 0., 3.],\n",
            "        [7., 3., 8., 9., 8., 2.]])\n"
          ]
        },
        {
          "output_type": "execute_result",
          "data": {
            "text/plain": [
              "tensor([[2., 6., 8., 2., 7., 6.],\n",
              "        [3., 0., 3., 6., 0., 3.],\n",
              "        [7., 3., 8., 9., 8., 2.]])"
            ]
          },
          "metadata": {},
          "execution_count": 75
        }
      ]
    },
    {
      "cell_type": "code",
      "source": [
        "torch.log(k)"
      ],
      "metadata": {
        "colab": {
          "base_uri": "https://localhost:8080/"
        },
        "id": "tP1BvjOqBIb_",
        "outputId": "70920bdf-1bcc-447a-cc92-327bdb921c29"
      },
      "execution_count": null,
      "outputs": [
        {
          "output_type": "execute_result",
          "data": {
            "text/plain": [
              "tensor([[0.6931, 1.7918, 2.0794, 0.6931, 1.9459, 1.7918],\n",
              "        [1.0986,   -inf, 1.0986, 1.7918,   -inf, 1.0986],\n",
              "        [1.9459, 1.0986, 2.0794, 2.1972, 2.0794, 0.6931]])"
            ]
          },
          "metadata": {},
          "execution_count": 76
        }
      ]
    },
    {
      "cell_type": "code",
      "source": [
        "torch.exp(k)"
      ],
      "metadata": {
        "colab": {
          "base_uri": "https://localhost:8080/"
        },
        "id": "DVQ9LlurBNyp",
        "outputId": "5333b88e-ba1e-4339-bab9-dd122e3fabd7"
      },
      "execution_count": null,
      "outputs": [
        {
          "output_type": "execute_result",
          "data": {
            "text/plain": [
              "tensor([[7.3891e+00, 4.0343e+02, 2.9810e+03, 7.3891e+00, 1.0966e+03, 4.0343e+02],\n",
              "        [2.0086e+01, 1.0000e+00, 2.0086e+01, 4.0343e+02, 1.0000e+00, 2.0086e+01],\n",
              "        [1.0966e+03, 2.0086e+01, 2.9810e+03, 8.1031e+03, 2.9810e+03, 7.3891e+00]])"
            ]
          },
          "metadata": {},
          "execution_count": 77
        }
      ]
    },
    {
      "cell_type": "code",
      "source": [
        "torch.sqrt(k)"
      ],
      "metadata": {
        "colab": {
          "base_uri": "https://localhost:8080/"
        },
        "id": "dRbBv4C9BQvI",
        "outputId": "f049556e-5ac4-40f9-88be-0271368d81f3"
      },
      "execution_count": null,
      "outputs": [
        {
          "output_type": "execute_result",
          "data": {
            "text/plain": [
              "tensor([[1.4142, 2.4495, 2.8284, 1.4142, 2.6458, 2.4495],\n",
              "        [1.7321, 0.0000, 1.7321, 2.4495, 0.0000, 1.7321],\n",
              "        [2.6458, 1.7321, 2.8284, 3.0000, 2.8284, 1.4142]])"
            ]
          },
          "metadata": {},
          "execution_count": 78
        }
      ]
    },
    {
      "cell_type": "code",
      "source": [
        "torch.sigmoid(k)"
      ],
      "metadata": {
        "colab": {
          "base_uri": "https://localhost:8080/"
        },
        "id": "TsBr2UOWBZNt",
        "outputId": "ee26a0e1-fdb6-4ee0-e716-839d0cff7762"
      },
      "execution_count": null,
      "outputs": [
        {
          "output_type": "execute_result",
          "data": {
            "text/plain": [
              "tensor([[0.8808, 0.9975, 0.9997, 0.8808, 0.9991, 0.9975],\n",
              "        [0.9526, 0.5000, 0.9526, 0.9975, 0.5000, 0.9526],\n",
              "        [0.9991, 0.9526, 0.9997, 0.9999, 0.9997, 0.8808]])"
            ]
          },
          "metadata": {},
          "execution_count": 79
        }
      ]
    },
    {
      "cell_type": "code",
      "source": [
        "torch.softmax(k, dim=0)"
      ],
      "metadata": {
        "colab": {
          "base_uri": "https://localhost:8080/"
        },
        "id": "iF-Ch1q9BcJ9",
        "outputId": "9e090218-5fea-49e3-9b4c-6a8d98c6fd22"
      },
      "execution_count": null,
      "outputs": [
        {
          "output_type": "execute_result",
          "data": {
            "text/plain": [
              "tensor([[6.5733e-03, 9.5033e-01, 4.9832e-01, 8.6788e-04, 2.6888e-01, 9.3624e-01],\n",
              "        [1.7868e-02, 2.3556e-03, 3.3577e-03, 4.7385e-02, 2.4518e-04, 4.6613e-02],\n",
              "        [9.7556e-01, 4.7314e-02, 4.9832e-01, 9.5175e-01, 7.3088e-01, 1.7148e-02]])"
            ]
          },
          "metadata": {},
          "execution_count": 80
        }
      ]
    },
    {
      "cell_type": "code",
      "source": [
        "torch.relu(k)"
      ],
      "metadata": {
        "colab": {
          "base_uri": "https://localhost:8080/"
        },
        "id": "XFviWFCQCOT-",
        "outputId": "462ca215-951f-48db-b88b-9fa226515092"
      },
      "execution_count": null,
      "outputs": [
        {
          "output_type": "execute_result",
          "data": {
            "text/plain": [
              "tensor([[2., 6., 8., 2., 7., 6.],\n",
              "        [3., 0., 3., 6., 0., 3.],\n",
              "        [7., 3., 8., 9., 8., 2.]])"
            ]
          },
          "metadata": {},
          "execution_count": 81
        }
      ]
    },
    {
      "cell_type": "markdown",
      "source": [
        "INPLACE OPERATIONS"
      ],
      "metadata": {
        "id": "DFOmreaACZLk"
      }
    },
    {
      "cell_type": "code",
      "source": [
        "m = torch.rand(3,6)\n",
        "n = torch.rand(3,6)\n",
        "print(m)\n",
        "print(n)"
      ],
      "metadata": {
        "colab": {
          "base_uri": "https://localhost:8080/"
        },
        "id": "HVH-xuV0Ccyi",
        "outputId": "f5c1ef6c-cf87-4cbe-c2bb-1cfede400124"
      },
      "execution_count": null,
      "outputs": [
        {
          "output_type": "stream",
          "name": "stdout",
          "text": [
            "tensor([[0.2234, 0.2469, 0.4761, 0.7792, 0.3722, 0.2147],\n",
            "        [0.3288, 0.1265, 0.6783, 0.8870, 0.0293, 0.6161],\n",
            "        [0.7583, 0.5907, 0.3219, 0.7610, 0.7628, 0.6870]])\n",
            "tensor([[0.4121, 0.3676, 0.5535, 0.4117, 0.3510, 0.8196],\n",
            "        [0.9297, 0.4505, 0.3881, 0.5073, 0.4701, 0.6202],\n",
            "        [0.6401, 0.0459, 0.3155, 0.9211, 0.6948, 0.4751]])\n"
          ]
        }
      ]
    },
    {
      "cell_type": "code",
      "source": [
        "m + n"
      ],
      "metadata": {
        "colab": {
          "base_uri": "https://localhost:8080/"
        },
        "id": "L8UmaXiwC0WX",
        "outputId": "c08e7643-5bc0-4661-bc53-56e42c9d2c59"
      },
      "execution_count": null,
      "outputs": [
        {
          "output_type": "execute_result",
          "data": {
            "text/plain": [
              "tensor([[0.6355, 0.6145, 1.0296, 1.1909, 0.7232, 1.0343],\n",
              "        [1.2585, 0.5770, 1.0664, 1.3943, 0.4994, 1.2363],\n",
              "        [1.3984, 0.6365, 0.6374, 1.6820, 1.4575, 1.1621]])"
            ]
          },
          "metadata": {},
          "execution_count": 83
        }
      ]
    },
    {
      "cell_type": "code",
      "source": [
        "m - n"
      ],
      "metadata": {
        "colab": {
          "base_uri": "https://localhost:8080/"
        },
        "id": "RQ3pN171DHN_",
        "outputId": "88ff4c71-b395-4d6c-baa7-ad7cc85b3b54"
      },
      "execution_count": null,
      "outputs": [
        {
          "output_type": "execute_result",
          "data": {
            "text/plain": [
              "tensor([[-0.1888, -0.1207, -0.0774,  0.3675,  0.0212, -0.6049],\n",
              "        [-0.6009, -0.3240,  0.2903,  0.3797, -0.4409, -0.0041],\n",
              "        [ 0.1182,  0.5448,  0.0065, -0.1601,  0.0680,  0.2118]])"
            ]
          },
          "metadata": {},
          "execution_count": 84
        }
      ]
    },
    {
      "cell_type": "code",
      "source": [
        "m.add(n)"
      ],
      "metadata": {
        "colab": {
          "base_uri": "https://localhost:8080/"
        },
        "id": "VfxXIVhJD01S",
        "outputId": "e5a7649b-e893-4cd0-f638-45b503b68854"
      },
      "execution_count": null,
      "outputs": [
        {
          "output_type": "execute_result",
          "data": {
            "text/plain": [
              "tensor([[0.6355, 0.6145, 1.0296, 1.1909, 0.7232, 1.0343],\n",
              "        [1.2585, 0.5770, 1.0664, 1.3943, 0.4994, 1.2363],\n",
              "        [1.3984, 0.6365, 0.6374, 1.6820, 1.4575, 1.1621]])"
            ]
          },
          "metadata": {},
          "execution_count": 85
        }
      ]
    },
    {
      "cell_type": "code",
      "source": [
        "m"
      ],
      "metadata": {
        "colab": {
          "base_uri": "https://localhost:8080/"
        },
        "id": "iTUGdwqLD4et",
        "outputId": "86521b23-b9c2-4b1b-8393-6b36511f6b90"
      },
      "execution_count": null,
      "outputs": [
        {
          "output_type": "execute_result",
          "data": {
            "text/plain": [
              "tensor([[0.2234, 0.2469, 0.4761, 0.7792, 0.3722, 0.2147],\n",
              "        [0.3288, 0.1265, 0.6783, 0.8870, 0.0293, 0.6161],\n",
              "        [0.7583, 0.5907, 0.3219, 0.7610, 0.7628, 0.6870]])"
            ]
          },
          "metadata": {},
          "execution_count": 86
        }
      ]
    },
    {
      "cell_type": "code",
      "source": [
        "n"
      ],
      "metadata": {
        "colab": {
          "base_uri": "https://localhost:8080/"
        },
        "id": "2cdOAV3RD5l7",
        "outputId": "1c5addc0-2015-4e47-ad86-2397ab29ed14"
      },
      "execution_count": null,
      "outputs": [
        {
          "output_type": "execute_result",
          "data": {
            "text/plain": [
              "tensor([[0.4121, 0.3676, 0.5535, 0.4117, 0.3510, 0.8196],\n",
              "        [0.9297, 0.4505, 0.3881, 0.5073, 0.4701, 0.6202],\n",
              "        [0.6401, 0.0459, 0.3155, 0.9211, 0.6948, 0.4751]])"
            ]
          },
          "metadata": {},
          "execution_count": 87
        }
      ]
    },
    {
      "cell_type": "code",
      "source": [
        "torch.relu(m)"
      ],
      "metadata": {
        "colab": {
          "base_uri": "https://localhost:8080/"
        },
        "id": "ciJM-0v5EOId",
        "outputId": "c4b062d6-07ee-4c92-fee2-8b547e2ffbd5"
      },
      "execution_count": null,
      "outputs": [
        {
          "output_type": "execute_result",
          "data": {
            "text/plain": [
              "tensor([[0.2234, 0.2469, 0.4761, 0.7792, 0.3722, 0.2147],\n",
              "        [0.3288, 0.1265, 0.6783, 0.8870, 0.0293, 0.6161],\n",
              "        [0.7583, 0.5907, 0.3219, 0.7610, 0.7628, 0.6870]])"
            ]
          },
          "metadata": {},
          "execution_count": 88
        }
      ]
    },
    {
      "cell_type": "code",
      "source": [
        "m.relu_()"
      ],
      "metadata": {
        "colab": {
          "base_uri": "https://localhost:8080/"
        },
        "id": "fU-kPGeYERsX",
        "outputId": "b9253a46-6fe2-4ed8-c3f6-d280cb6b5544"
      },
      "execution_count": null,
      "outputs": [
        {
          "output_type": "execute_result",
          "data": {
            "text/plain": [
              "tensor([[0.2234, 0.2469, 0.4761, 0.7792, 0.3722, 0.2147],\n",
              "        [0.3288, 0.1265, 0.6783, 0.8870, 0.0293, 0.6161],\n",
              "        [0.7583, 0.5907, 0.3219, 0.7610, 0.7628, 0.6870]])"
            ]
          },
          "metadata": {},
          "execution_count": 89
        }
      ]
    },
    {
      "cell_type": "code",
      "source": [
        "m"
      ],
      "metadata": {
        "colab": {
          "base_uri": "https://localhost:8080/"
        },
        "id": "849Guq4cEZGK",
        "outputId": "dc53a9c6-9b99-4f48-e1fb-1ec32bc0fcb2"
      },
      "execution_count": null,
      "outputs": [
        {
          "output_type": "execute_result",
          "data": {
            "text/plain": [
              "tensor([[0.2234, 0.2469, 0.4761, 0.7792, 0.3722, 0.2147],\n",
              "        [0.3288, 0.1265, 0.6783, 0.8870, 0.0293, 0.6161],\n",
              "        [0.7583, 0.5907, 0.3219, 0.7610, 0.7628, 0.6870]])"
            ]
          },
          "metadata": {},
          "execution_count": 90
        }
      ]
    },
    {
      "cell_type": "code",
      "source": [
        "n"
      ],
      "metadata": {
        "colab": {
          "base_uri": "https://localhost:8080/"
        },
        "id": "0nUkpO6YEaQn",
        "outputId": "97b789d7-ba82-46bb-fefb-3372531d60da"
      },
      "execution_count": null,
      "outputs": [
        {
          "output_type": "execute_result",
          "data": {
            "text/plain": [
              "tensor([[0.4121, 0.3676, 0.5535, 0.4117, 0.3510, 0.8196],\n",
              "        [0.9297, 0.4505, 0.3881, 0.5073, 0.4701, 0.6202],\n",
              "        [0.6401, 0.0459, 0.3155, 0.9211, 0.6948, 0.4751]])"
            ]
          },
          "metadata": {},
          "execution_count": 91
        }
      ]
    },
    {
      "cell_type": "markdown",
      "source": [
        "COPYING A TENSOR"
      ],
      "metadata": {
        "id": "9jygOBjkFABm"
      }
    },
    {
      "cell_type": "code",
      "source": [
        "a = torch.rand(3,6)\n",
        "a"
      ],
      "metadata": {
        "colab": {
          "base_uri": "https://localhost:8080/"
        },
        "id": "AkEA1eCpFCf2",
        "outputId": "1ba86960-ae25-4ff5-d7d3-1c7b3e4883dd"
      },
      "execution_count": null,
      "outputs": [
        {
          "output_type": "execute_result",
          "data": {
            "text/plain": [
              "tensor([[0.1985, 0.1941, 0.0521, 0.3370, 0.6689, 0.8188],\n",
              "        [0.7308, 0.0580, 0.1993, 0.4211, 0.9837, 0.5723],\n",
              "        [0.3705, 0.7069, 0.3096, 0.1764, 0.8649, 0.2726]])"
            ]
          },
          "metadata": {},
          "execution_count": 92
        }
      ]
    },
    {
      "cell_type": "code",
      "source": [
        "b = a"
      ],
      "metadata": {
        "id": "7STcSk5gFQd_"
      },
      "execution_count": null,
      "outputs": []
    },
    {
      "cell_type": "code",
      "source": [
        "b"
      ],
      "metadata": {
        "colab": {
          "base_uri": "https://localhost:8080/"
        },
        "id": "KjjGcF-eFV0O",
        "outputId": "d6d221f0-946e-43d4-93a4-a370b3b23dd8"
      },
      "execution_count": null,
      "outputs": [
        {
          "output_type": "execute_result",
          "data": {
            "text/plain": [
              "tensor([[0.1985, 0.1941, 0.0521, 0.3370, 0.6689, 0.8188],\n",
              "        [0.7308, 0.0580, 0.1993, 0.4211, 0.9837, 0.5723],\n",
              "        [0.3705, 0.7069, 0.3096, 0.1764, 0.8649, 0.2726]])"
            ]
          },
          "metadata": {},
          "execution_count": 94
        }
      ]
    },
    {
      "cell_type": "code",
      "source": [
        "a[0][0] = 10"
      ],
      "metadata": {
        "id": "95SVE6jnFXER"
      },
      "execution_count": null,
      "outputs": []
    },
    {
      "cell_type": "code",
      "source": [
        "a"
      ],
      "metadata": {
        "colab": {
          "base_uri": "https://localhost:8080/"
        },
        "id": "S6EOEWo6Faa9",
        "outputId": "568a62aa-6e68-4851-eb04-701ef77e71e0"
      },
      "execution_count": null,
      "outputs": [
        {
          "output_type": "execute_result",
          "data": {
            "text/plain": [
              "tensor([[10.0000,  0.1941,  0.0521,  0.3370,  0.6689,  0.8188],\n",
              "        [ 0.7308,  0.0580,  0.1993,  0.4211,  0.9837,  0.5723],\n",
              "        [ 0.3705,  0.7069,  0.3096,  0.1764,  0.8649,  0.2726]])"
            ]
          },
          "metadata": {},
          "execution_count": 96
        }
      ]
    },
    {
      "cell_type": "code",
      "source": [
        "b"
      ],
      "metadata": {
        "colab": {
          "base_uri": "https://localhost:8080/"
        },
        "id": "0xvNGRGxFbac",
        "outputId": "d076e3b9-756b-4af4-a3e8-66498f01b595"
      },
      "execution_count": null,
      "outputs": [
        {
          "output_type": "execute_result",
          "data": {
            "text/plain": [
              "tensor([[10.0000,  0.1941,  0.0521,  0.3370,  0.6689,  0.8188],\n",
              "        [ 0.7308,  0.0580,  0.1993,  0.4211,  0.9837,  0.5723],\n",
              "        [ 0.3705,  0.7069,  0.3096,  0.1764,  0.8649,  0.2726]])"
            ]
          },
          "metadata": {},
          "execution_count": 97
        }
      ]
    },
    {
      "cell_type": "code",
      "source": [
        "id(a)"
      ],
      "metadata": {
        "colab": {
          "base_uri": "https://localhost:8080/"
        },
        "id": "1Zx2KTRGFiyK",
        "outputId": "68fd4394-f986-4309-ffae-5d03f0202a2a"
      },
      "execution_count": null,
      "outputs": [
        {
          "output_type": "execute_result",
          "data": {
            "text/plain": [
              "136493903603920"
            ]
          },
          "metadata": {},
          "execution_count": 98
        }
      ]
    },
    {
      "cell_type": "code",
      "source": [
        "id(b)"
      ],
      "metadata": {
        "colab": {
          "base_uri": "https://localhost:8080/"
        },
        "id": "kh-UewUzFkMD",
        "outputId": "e965899a-53d8-49da-ba61-686ba75fb851"
      },
      "execution_count": null,
      "outputs": [
        {
          "output_type": "execute_result",
          "data": {
            "text/plain": [
              "136493903603920"
            ]
          },
          "metadata": {},
          "execution_count": 99
        }
      ]
    },
    {
      "cell_type": "code",
      "source": [
        "b = a.clone()"
      ],
      "metadata": {
        "id": "HlLidaACFr5j"
      },
      "execution_count": null,
      "outputs": []
    },
    {
      "cell_type": "code",
      "source": [
        "a"
      ],
      "metadata": {
        "colab": {
          "base_uri": "https://localhost:8080/"
        },
        "id": "DKqniB2EFutN",
        "outputId": "02522c5d-6cb9-4767-e752-3691decb14c8"
      },
      "execution_count": null,
      "outputs": [
        {
          "output_type": "execute_result",
          "data": {
            "text/plain": [
              "tensor([[10.0000,  0.1941,  0.0521,  0.3370,  0.6689,  0.8188],\n",
              "        [ 0.7308,  0.0580,  0.1993,  0.4211,  0.9837,  0.5723],\n",
              "        [ 0.3705,  0.7069,  0.3096,  0.1764,  0.8649,  0.2726]])"
            ]
          },
          "metadata": {},
          "execution_count": 101
        }
      ]
    },
    {
      "cell_type": "code",
      "source": [
        "b"
      ],
      "metadata": {
        "colab": {
          "base_uri": "https://localhost:8080/"
        },
        "id": "wKrx7_g2Fv8G",
        "outputId": "79fa6abb-6536-4098-c1ca-fde8e8c3ee98"
      },
      "execution_count": null,
      "outputs": [
        {
          "output_type": "execute_result",
          "data": {
            "text/plain": [
              "tensor([[10.0000,  0.1941,  0.0521,  0.3370,  0.6689,  0.8188],\n",
              "        [ 0.7308,  0.0580,  0.1993,  0.4211,  0.9837,  0.5723],\n",
              "        [ 0.3705,  0.7069,  0.3096,  0.1764,  0.8649,  0.2726]])"
            ]
          },
          "metadata": {},
          "execution_count": 102
        }
      ]
    },
    {
      "cell_type": "code",
      "source": [
        "torch.cuda.is_available()"
      ],
      "metadata": {
        "colab": {
          "base_uri": "https://localhost:8080/"
        },
        "id": "Bq_uUFG4GHDm",
        "outputId": "6cc7a3dd-8ff4-49ff-f093-8cd81b860544"
      },
      "execution_count": null,
      "outputs": [
        {
          "output_type": "execute_result",
          "data": {
            "text/plain": [
              "False"
            ]
          },
          "metadata": {},
          "execution_count": 103
        }
      ]
    },
    {
      "cell_type": "code",
      "source": [
        "device = torch.device('cuda')"
      ],
      "metadata": {
        "id": "_dAvc0UoGL4X"
      },
      "execution_count": null,
      "outputs": []
    },
    {
      "cell_type": "code",
      "source": [
        "torch.rand((3,6), device=device)"
      ],
      "metadata": {
        "colab": {
          "base_uri": "https://localhost:8080/",
          "height": 289
        },
        "id": "SatGu2CTGepn",
        "outputId": "692a8849-2601-4de1-919b-9b504c5a9a13"
      },
      "execution_count": null,
      "outputs": [
        {
          "output_type": "error",
          "ename": "RuntimeError",
          "evalue": "Found no NVIDIA driver on your system. Please check that you have an NVIDIA GPU and installed a driver from http://www.nvidia.com/Download/index.aspx",
          "traceback": [
            "\u001b[0;31m---------------------------------------------------------------------------\u001b[0m",
            "\u001b[0;31mRuntimeError\u001b[0m                              Traceback (most recent call last)",
            "\u001b[0;32m/tmp/ipython-input-41523948.py\u001b[0m in \u001b[0;36m<cell line: 0>\u001b[0;34m()\u001b[0m\n\u001b[0;32m----> 1\u001b[0;31m \u001b[0mtorch\u001b[0m\u001b[0;34m.\u001b[0m\u001b[0mrand\u001b[0m\u001b[0;34m(\u001b[0m\u001b[0;34m(\u001b[0m\u001b[0;36m3\u001b[0m\u001b[0;34m,\u001b[0m\u001b[0;36m6\u001b[0m\u001b[0;34m)\u001b[0m\u001b[0;34m,\u001b[0m \u001b[0mdevice\u001b[0m\u001b[0;34m=\u001b[0m\u001b[0mdevice\u001b[0m\u001b[0;34m)\u001b[0m\u001b[0;34m\u001b[0m\u001b[0;34m\u001b[0m\u001b[0m\n\u001b[0m",
            "\u001b[0;32m/usr/local/lib/python3.11/dist-packages/torch/cuda/__init__.py\u001b[0m in \u001b[0;36m_lazy_init\u001b[0;34m()\u001b[0m\n\u001b[1;32m    317\u001b[0m         \u001b[0;32mif\u001b[0m \u001b[0;34m\"CUDA_MODULE_LOADING\"\u001b[0m \u001b[0;32mnot\u001b[0m \u001b[0;32min\u001b[0m \u001b[0mos\u001b[0m\u001b[0;34m.\u001b[0m\u001b[0menviron\u001b[0m\u001b[0;34m:\u001b[0m\u001b[0;34m\u001b[0m\u001b[0;34m\u001b[0m\u001b[0m\n\u001b[1;32m    318\u001b[0m             \u001b[0mos\u001b[0m\u001b[0;34m.\u001b[0m\u001b[0menviron\u001b[0m\u001b[0;34m[\u001b[0m\u001b[0;34m\"CUDA_MODULE_LOADING\"\u001b[0m\u001b[0;34m]\u001b[0m \u001b[0;34m=\u001b[0m \u001b[0;34m\"LAZY\"\u001b[0m\u001b[0;34m\u001b[0m\u001b[0;34m\u001b[0m\u001b[0m\n\u001b[0;32m--> 319\u001b[0;31m         \u001b[0mtorch\u001b[0m\u001b[0;34m.\u001b[0m\u001b[0m_C\u001b[0m\u001b[0;34m.\u001b[0m\u001b[0m_cuda_init\u001b[0m\u001b[0;34m(\u001b[0m\u001b[0;34m)\u001b[0m\u001b[0;34m\u001b[0m\u001b[0;34m\u001b[0m\u001b[0m\n\u001b[0m\u001b[1;32m    320\u001b[0m         \u001b[0;31m# Some of the queued calls may reentrantly call _lazy_init();\u001b[0m\u001b[0;34m\u001b[0m\u001b[0;34m\u001b[0m\u001b[0m\n\u001b[1;32m    321\u001b[0m         \u001b[0;31m# we need to just return without initializing in that case.\u001b[0m\u001b[0;34m\u001b[0m\u001b[0;34m\u001b[0m\u001b[0m\n",
            "\u001b[0;31mRuntimeError\u001b[0m: Found no NVIDIA driver on your system. Please check that you have an NVIDIA GPU and installed a driver from http://www.nvidia.com/Download/index.aspx"
          ]
        }
      ]
    },
    {
      "cell_type": "code",
      "source": [
        "a = torch.rand((3,6), device=device)"
      ],
      "metadata": {
        "id": "8RlpAwdtGqwC"
      },
      "execution_count": null,
      "outputs": []
    },
    {
      "cell_type": "code",
      "source": [
        "a = torch.rand((3,6))\n",
        "a"
      ],
      "metadata": {
        "colab": {
          "base_uri": "https://localhost:8080/"
        },
        "id": "mrotBzG3HCcr",
        "outputId": "2d513287-3fcb-4cc4-8e21-574b7b6eacaa"
      },
      "execution_count": null,
      "outputs": [
        {
          "output_type": "execute_result",
          "data": {
            "text/plain": [
              "tensor([[0.3998, 0.0026, 0.8346, 0.8788, 0.6822, 0.1514],\n",
              "        [0.0065, 0.0939, 0.8729, 0.7401, 0.9208, 0.7619],\n",
              "        [0.6265, 0.4951, 0.1197, 0.0716, 0.0323, 0.7047]])"
            ]
          },
          "metadata": {},
          "execution_count": 115
        }
      ]
    },
    {
      "cell_type": "code",
      "source": [
        "b = a.to(device)"
      ],
      "metadata": {
        "colab": {
          "base_uri": "https://localhost:8080/",
          "height": 289
        },
        "id": "ajcVwm5RHLKl",
        "outputId": "f7bb2f18-a51f-433d-841f-51c1ef79ec1b"
      },
      "execution_count": null,
      "outputs": [
        {
          "output_type": "error",
          "ename": "RuntimeError",
          "evalue": "Found no NVIDIA driver on your system. Please check that you have an NVIDIA GPU and installed a driver from http://www.nvidia.com/Download/index.aspx",
          "traceback": [
            "\u001b[0;31m---------------------------------------------------------------------------\u001b[0m",
            "\u001b[0;31mRuntimeError\u001b[0m                              Traceback (most recent call last)",
            "\u001b[0;32m/tmp/ipython-input-1582996557.py\u001b[0m in \u001b[0;36m<cell line: 0>\u001b[0;34m()\u001b[0m\n\u001b[0;32m----> 1\u001b[0;31m \u001b[0mb\u001b[0m \u001b[0;34m=\u001b[0m \u001b[0ma\u001b[0m\u001b[0;34m.\u001b[0m\u001b[0mto\u001b[0m\u001b[0;34m(\u001b[0m\u001b[0mdevice\u001b[0m\u001b[0;34m)\u001b[0m\u001b[0;34m\u001b[0m\u001b[0;34m\u001b[0m\u001b[0m\n\u001b[0m",
            "\u001b[0;32m/usr/local/lib/python3.11/dist-packages/torch/cuda/__init__.py\u001b[0m in \u001b[0;36m_lazy_init\u001b[0;34m()\u001b[0m\n\u001b[1;32m    317\u001b[0m         \u001b[0;32mif\u001b[0m \u001b[0;34m\"CUDA_MODULE_LOADING\"\u001b[0m \u001b[0;32mnot\u001b[0m \u001b[0;32min\u001b[0m \u001b[0mos\u001b[0m\u001b[0;34m.\u001b[0m\u001b[0menviron\u001b[0m\u001b[0;34m:\u001b[0m\u001b[0;34m\u001b[0m\u001b[0;34m\u001b[0m\u001b[0m\n\u001b[1;32m    318\u001b[0m             \u001b[0mos\u001b[0m\u001b[0;34m.\u001b[0m\u001b[0menviron\u001b[0m\u001b[0;34m[\u001b[0m\u001b[0;34m\"CUDA_MODULE_LOADING\"\u001b[0m\u001b[0;34m]\u001b[0m \u001b[0;34m=\u001b[0m \u001b[0;34m\"LAZY\"\u001b[0m\u001b[0;34m\u001b[0m\u001b[0;34m\u001b[0m\u001b[0m\n\u001b[0;32m--> 319\u001b[0;31m         \u001b[0mtorch\u001b[0m\u001b[0;34m.\u001b[0m\u001b[0m_C\u001b[0m\u001b[0;34m.\u001b[0m\u001b[0m_cuda_init\u001b[0m\u001b[0;34m(\u001b[0m\u001b[0;34m)\u001b[0m\u001b[0;34m\u001b[0m\u001b[0;34m\u001b[0m\u001b[0m\n\u001b[0m\u001b[1;32m    320\u001b[0m         \u001b[0;31m# Some of the queued calls may reentrantly call _lazy_init();\u001b[0m\u001b[0;34m\u001b[0m\u001b[0;34m\u001b[0m\u001b[0m\n\u001b[1;32m    321\u001b[0m         \u001b[0;31m# we need to just return without initializing in that case.\u001b[0m\u001b[0;34m\u001b[0m\u001b[0;34m\u001b[0m\u001b[0m\n",
            "\u001b[0;31mRuntimeError\u001b[0m: Found no NVIDIA driver on your system. Please check that you have an NVIDIA GPU and installed a driver from http://www.nvidia.com/Download/index.aspx"
          ]
        }
      ]
    },
    {
      "cell_type": "code",
      "source": [
        "b + 5"
      ],
      "metadata": {
        "id": "cOdN99CFHW49"
      },
      "execution_count": null,
      "outputs": []
    },
    {
      "cell_type": "markdown",
      "source": [
        "RESHAPING TENSORS"
      ],
      "metadata": {
        "id": "wurjgpcybmu3"
      }
    },
    {
      "cell_type": "code",
      "source": [
        "a = torch.ones(4,4)\n",
        "a"
      ],
      "metadata": {
        "id": "y0w6H6nNbpQX"
      },
      "execution_count": null,
      "outputs": []
    },
    {
      "cell_type": "code",
      "source": [
        "a.reshape(2,2,2,2)"
      ],
      "metadata": {
        "id": "ibr-IhEYb2jE"
      },
      "execution_count": null,
      "outputs": []
    },
    {
      "cell_type": "code",
      "source": [
        "a.flatten()"
      ],
      "metadata": {
        "id": "CLFDXE8lcoRi"
      },
      "execution_count": null,
      "outputs": []
    },
    {
      "cell_type": "code",
      "source": [
        "b = torch.rand(2,3,4)\n",
        "b"
      ],
      "metadata": {
        "id": "P1WDuIldcqkb"
      },
      "execution_count": null,
      "outputs": []
    },
    {
      "cell_type": "code",
      "source": [
        "b.permute(2,1,0).shape"
      ],
      "metadata": {
        "id": "zcr8nWPncqfi"
      },
      "execution_count": null,
      "outputs": []
    },
    {
      "cell_type": "code",
      "source": [
        "c = torch.rand(226,226,3)\n",
        "c.unsqueeze(0).shape"
      ],
      "metadata": {
        "id": "l5KM1BZ5dTss"
      },
      "execution_count": null,
      "outputs": []
    },
    {
      "cell_type": "code",
      "source": [
        "d = torch.rand(1,20)\n",
        "d.squeeze(0).shape"
      ],
      "metadata": {
        "id": "kFgVfNXsd08E"
      },
      "execution_count": null,
      "outputs": []
    },
    {
      "cell_type": "markdown",
      "source": [
        "NumPy AND PyTorch"
      ],
      "metadata": {
        "id": "Jox6-HXgd_Oc"
      }
    },
    {
      "cell_type": "code",
      "source": [
        "import numpy as np"
      ],
      "metadata": {
        "id": "3Z3y4FGieGtN"
      },
      "execution_count": null,
      "outputs": []
    },
    {
      "cell_type": "code",
      "source": [
        "a = torch.tensor([1,2,3])\n",
        "a"
      ],
      "metadata": {
        "id": "kTuD9UNlePlM"
      },
      "execution_count": null,
      "outputs": []
    },
    {
      "cell_type": "code",
      "source": [
        "b = a.numpy()"
      ],
      "metadata": {
        "id": "nQIzM-QreVOC"
      },
      "execution_count": null,
      "outputs": []
    },
    {
      "cell_type": "code",
      "source": [
        "b"
      ],
      "metadata": {
        "id": "m5q5I0kVeYyY"
      },
      "execution_count": null,
      "outputs": []
    },
    {
      "cell_type": "code",
      "source": [
        "type(b)"
      ],
      "metadata": {
        "id": "iEkHslM3eaHK"
      },
      "execution_count": null,
      "outputs": []
    },
    {
      "cell_type": "code",
      "source": [
        "c = np.array([1,2,3])\n",
        "c"
      ],
      "metadata": {
        "id": "UtjTDf3EecJs"
      },
      "execution_count": null,
      "outputs": []
    },
    {
      "cell_type": "code",
      "source": [
        " torch.from_numpy(c)"
      ],
      "metadata": {
        "id": "oWawiUPdei3Y"
      },
      "execution_count": null,
      "outputs": []
    }
  ]
}